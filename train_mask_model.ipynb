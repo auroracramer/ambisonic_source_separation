{
 "cells": [
  {
   "cell_type": "code",
   "execution_count": 1,
   "metadata": {},
   "outputs": [
    {
     "name": "stderr",
     "output_type": "stream",
     "text": [
      "Using TensorFlow backend.\n"
     ]
    }
   ],
   "source": [
    "import keras\n",
    "from keras.layers import Input, LSTM, Dense, TimeDistributed, Masking, Reshape\n",
    "from keras.models import Model\n",
    "from keras.callbacks import EarlyStopping\n",
    "from keras.optimizers import Nadam\n",
    "from keras.regularizers import l2\n",
    "import pescador"
   ]
  },
  {
   "cell_type": "code",
   "execution_count": 2,
   "metadata": {},
   "outputs": [],
   "source": [
    "# Training hyperparams\n",
    "wd = 1e-4\n",
    "lr = 1e-3\n",
    "patience= 10\n",
    "hidden_units = 512\n",
    "num_steps = 50\n",
    "num_frames = 25\n",
    "fft_size = 1024\n",
    "hop_size = 512\n",
    "steps_per_epoch = 1024\n",
    "num_epochs = 512\n",
    "valid_steps = 1024"
   ]
  },
  {
   "cell_type": "code",
   "execution_count": null,
   "metadata": {
    "collapsed": true
   },
   "outputs": [],
   "source": [
    "train_gen = lstm_data_generator(train_speech_dir, train_noise_dir, srir_dir, sc_to_pos_dict, batch_size, active_streamers,\n",
    "                        rate, random_state=12345678)\n",
    "valid_gen = lstm_data_generator(valid_speech_dir, valid_noise_dir, srir_dir, sc_to_pos_dict, batch_size, active_streamers,\n",
    "                        rate, random_state=12345678)"
   ]
  },
  {
   "cell_type": "code",
   "execution_count": null,
   "metadata": {
    "collapsed": true
   },
   "outputs": [],
   "source": [
    "def create_mask_model(num_steps, num_frames, fft_size, hidden_units,\n",
    "                      num_channels=2, weight_decay=1e-4, dropout=0.5):\n",
    "    feature_size = fft_size // 2 + 1\n",
    "    input_shape = (num_steps, num_frames, feature_size, num_channels)\n",
    "    inp = Input(input_shape)\n",
    "    net = Reshape((num_steps, num_frames, feature_size * num_chanels))(inp)\n",
    "    net = Masking(mask_value=0.0)(net)\n",
    "    net = LSTM(hidden_units, activation='tanh',\n",
    "               return_sequences=True,\n",
    "               dropout=dropout,\n",
    "               recurrent_dropout=dropout,\n",
    "               kernel_regularizer=l2(weight_decay),\n",
    "               recurrent_regularizer=l2(weight_decay),\n",
    "               bias_regularizer=l2(weight_decay))(net)\n",
    "    out = TimeDistributed(Dense(feature_size. activation='sigmoid',\n",
    "                                kernel_regularizer=l2(weight_decay),\n",
    "                                bias_regularizer=l2(weight_decay)),\n",
    "                          input_shape=input_shape)(net)\n",
    "\n",
    "    model = Model(inputs=inp, outputs=out)\n",
    "    \n",
    "    return model\n",
    "\n",
    "model = create_mask_model(num_steps, num_frames, fft_size, hidden_units, weight_decay=wd)"
   ]
  },
  {
   "cell_type": "code",
   "execution_count": null,
   "metadata": {
    "collapsed": true
   },
   "outputs": [],
   "source": [
    "model.compile(loss='mse', optimizer=Nadam(lr=lr), metrics=['accuracy'])\n",
    "model_filepath = 'model.h5'\n",
    "callbacks = []\n",
    "callbacks.append(EarlyStopping(patience=patience))\n",
    "callbacks.append(ModelCheckpoint(model_filepath, save_best_only=True))\n",
    "\n",
    "model.fit_generator(train_gen, steps_per_epoch=steps_per_epoch,\n",
    "                    epochs=num_epochs, callbacks=callbacks,\n",
    "                    validation_data=valid_gen,\n",
    "                    validation_steps=valid_steps)"
   ]
  }
 ],
 "metadata": {
  "kernelspec": {
   "display_name": "Python 3",
   "language": "python",
   "name": "python3"
  },
  "language_info": {
   "codemirror_mode": {
    "name": "ipython",
    "version": 3
   },
   "file_extension": ".py",
   "mimetype": "text/x-python",
   "name": "python",
   "nbconvert_exporter": "python",
   "pygments_lexer": "ipython3",
   "version": "3.6.4"
  }
 },
 "nbformat": 4,
 "nbformat_minor": 2
}
