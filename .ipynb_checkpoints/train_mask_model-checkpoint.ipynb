{
 "cells": [
  {
   "cell_type": "code",
   "execution_count": null,
   "metadata": {
    "collapsed": true
   },
   "outputs": [],
   "source": [
    "import keras\n",
    "from keras.layers import Input, LSTM, Dense, TimeDistributed\n",
    "from keras.models import Model\n",
    "from keras.callbacks import EarlyStopping\n",
    "from keras.optimizers import Nadam\n",
    "from keras.regularizers import l2\n",
    "import pescador"
   ]
  },
  {
   "cell_type": "code",
   "execution_count": null,
   "metadata": {
    "collapsed": true
   },
   "outputs": [],
   "source": [
    "# Training hyperparams\n",
    "wd = 1e-4\n",
    "lr = 1e-3\n",
    "patience= 10\n",
    "hidden_units = 512\n",
    "num_frames = 25\n",
    "fft_size = 1024\n",
    "hop_size = 512\n",
    "steps_per_epoch = 1024\n",
    "num_epochs = 512\n",
    "valid_steps = 1024"
   ]
  },
  {
   "cell_type": "code",
   "execution_count": null,
   "metadata": {
    "collapsed": true
   },
   "outputs": [],
   "source": [
    "train_gen = None\n",
    "valid_gen = None"
   ]
  },
  {
   "cell_type": "code",
   "execution_count": null,
   "metadata": {
    "collapsed": true
   },
   "outputs": [],
   "source": [
    "def create_mask_model(num_frames, fft_size, hidden_units,\n",
    "                      weight_decay=1e-4, dropout=0.5):\n",
    "    feature_size = fft_size // 2 + 1\n",
    "    inp = Input((num_frames, feature_size))\n",
    "    net = LSTM(hidden_units, activation='tanh',\n",
    "               return_sequences=True,\n",
    "               dropout=dropout,\n",
    "               recurrent_dropout=dropout,\n",
    "               kernel_regularizer=l2(weight_decay),\n",
    "               recurrent_regularizer=l2(weight_decay),\n",
    "               bias_regularizer=l2(weight_decay))(inp)\n",
    "    out = TimeDistributed(Dense(feature_size. activation='sigmoid',\n",
    "                                kernel_regularizer=l2(weight_decay),\n",
    "                                bias_regularizer=l2(weight_decay)))(net)\n",
    "\n",
    "    model = Model(inputs=inp, outputs=out)\n",
    "    \n",
    "    return model\n",
    "\n",
    "model = create_mask_model(num_frames, fft_size, hidden_units, weight_decay=wd)"
   ]
  },
  {
   "cell_type": "code",
   "execution_count": null,
   "metadata": {
    "collapsed": true
   },
   "outputs": [],
   "source": [
    "model.compile(loss='mse', optimizer=Nadam(lr=lr), metrics=['accuracy'])\n",
    "model_filepath = 'model.h5'\n",
    "callbacks = []\n",
    "callbacks.append(EarlyStopping(patience=patience))\n",
    "callbacks.append(ModelCheckpoint(model_filepath, save_best_only=True))\n",
    "\n",
    "model.fit_generator(train_gen, steps_per_epoch=steps_per_epoch,\n",
    "                    epochs=num_epochs, callbacks=callbacks,\n",
    "                    validation_data=valid_gen,\n",
    "                    validation_steps=valid_steps)"
   ]
  },
  {
   "cell_type": "markdown",
   "metadata": {},
   "source": [
    "# feature extraction "
   ]
  },
  {
   "cell_type": "code",
   "execution_count": 26,
   "metadata": {
    "scrolled": false
   },
   "outputs": [
    {
     "name": "stdout",
     "output_type": "stream",
     "text": [
      "[[0. 2. 0. 0.]\n",
      " [0. 4. 0. 0.]\n",
      " [0. 6. 0. 0.]\n",
      " [0. 8. 0. 0.]]\n"
     ]
    }
   ],
   "source": [
    "import numpy as np\n",
    "np.arange(-90,90,10)\n",
    "a=np.array([1,2,3,4])\n",
    "#a.reshape((4,1))\n",
    "D=np.zeros((4,4))\n",
    "D[:,1]=a\n",
    "Dm=np.matrix(D)\n",
    "print(np.matmul(D,D))\n"
   ]
  },
  {
   "cell_type": "markdown",
   "metadata": {},
   "source": [
    "# HOA steering matrix\n",
    "steering matrix dimension: 1. choose azi-ele pairs? 2. choose a range of azi-ele and compute a huge matrix?"
   ]
  },
  {
   "cell_type": "code",
   "execution_count": 13,
   "metadata": {
    "collapsed": true
   },
   "outputs": [],
   "source": [
    "#generate matrix of steering vectors that include azimuth & elevation of certain range\n",
    "def steer_vector(azis,eles):\n",
    "    #azi_res is resolution of azimuth angle from -180 to 180\n",
    "    #ele_res is resolution of elevation angle from -90 to 90\n",
    "    #theta=np.arange(-180,180,azi_res)\n",
    "    #phi=np.arange(-90,90,ele_res)\n",
    "    \n",
    "    #azis and eles are pairs of chosen directions\n",
    "    D=np.zeros((4,azis.shape[0]))#the steering matrix is of size (4,len(pairs)))\n",
    "    for idx, azi in enumerate(azis):\n",
    "        phi=eles[idx]\n",
    "        d=np.array([1,np.sqrt(3)*cos(azi)*cos(phi),np.sqrt(3)*sin(azi)*cos(phi),np.sqrt(3)*sin(phi)])\n",
    "        D[:,idx]=d\n",
    "    return D\n",
    "        "
   ]
  },
  {
   "cell_type": "code",
   "execution_count": null,
   "metadata": {
    "collapsed": true
   },
   "outputs": [],
   "source": [
    "#simple anechoic beamformer is the pseudo inverse of steering matrix.\n",
    "D=steer_vector(azis,eles)\n",
    "def beamformer(pair,steer_mat):\n",
    "    #pair is the index of desired pair of azimuth/elevation, D=(m,n), inv(D)=(n,m)\n",
    "    u=np.zeros((1,steer_mat.shape[1]))#(1,n)\n",
    "    u[pair]=1\n",
    "    beamformer=np.linalg.pinv(steer_mat)*u[:,None]#output=(n,m)\n",
    "    return beamformer"
   ]
  },
  {
   "cell_type": "markdown",
   "metadata": {},
   "source": [
    "# GEVD MWF\n",
    "ground truth masks"
   ]
  },
  {
   "cell_type": "code",
   "execution_count": null,
   "metadata": {
    "collapsed": true
   },
   "outputs": [],
   "source": [
    " from scipy import signal"
   ]
  },
  {
   "cell_type": "code",
   "execution_count": null,
   "metadata": {
    "collapsed": true
   },
   "outputs": [],
   "source": [
    "def compute_masks(src, noise):\n",
    "    #assuming each audio clip is sampled at 16kHz,compute the STFT\n",
    "    #with a sinusoidal window of 1024 samples and 50% overlap.\n",
    "    #window=signal.get_window('bohman',1024)\n",
    "    sw=signal.stft(src, fs=16e3, window=('bohman',1024), nperseg=1024, noverlap=None)#need to check dimensions of these\n",
    "    nw=signal.stft(noise, fs=16e3, window=('bohman',1024), nperseg=1024, noverlap=None)\n",
    "    Ms=sw**2/(sw**2+nw**2)\n",
    "    Mn=1-Ms\n",
    "    return Ms,Mn\n",
    "      "
   ]
  },
  {
   "cell_type": "code",
   "execution_count": null,
   "metadata": {
    "collapsed": true
   },
   "outputs": [],
   "source": [
    "#compute speech s_hat from mask, then covariance matrix PHI_ss/PHI_nn from s_hat, then PHI_ss-r1/PHI_nn-r1, then wGEVD\n",
    "\n",
    "def get_GEVD(Mask_s,Mask_n,mix,speech,noise):\n",
    "    s_hat=np.matmul(Mask_s,mix)\n",
    "    T=s_hat.shape[0]\n",
    "    phi_ss=np.matrix(1/T*np.sum(s_hat*s_hat.conjugate().transpose(),axis=0))\n",
    "    sn_hat=np.matmul(Mask_n,mix)\n",
    "    Tn=sn_hat.shape[0]\n",
    "    phi_nn=np.matrix(1/T*np.sum(sn_hat*sn_hat.conjugate().transpose(),axis=0))\n",
    "    #rank-1 approximation\n",
    "    u,s,v=np.linalg.svd(phi_ss, full_matrices=False)\n",
    "    phi_ss_r1=s[0] * np.outer(u.T[0], v[0])\n",
    "    un,sn,vn=np.linalg.svd(phi_nn, full_matrices=False)\n",
    "    phi_nn_r1=sn[0]* np.outer(un.T[0],vn[0])\n",
    "    #get wGEVD\n",
    "    u1=np.zeros((phi_nn_r1.shape[0]))\n",
    "    u1[0]=1\n",
    "    wGEVD=np.matmul(inv(phi_ss_r1+phi_nn_r1),phi_ss_r1)*u1#what is u1 in this case\n"
   ]
  }
 ],
 "metadata": {
  "kernelspec": {
   "display_name": "Python [default]",
   "language": "python",
   "name": "python3"
  },
  "language_info": {
   "codemirror_mode": {
    "name": "ipython",
    "version": 3
   },
   "file_extension": ".py",
   "mimetype": "text/x-python",
   "name": "python",
   "nbconvert_exporter": "python",
   "pygments_lexer": "ipython3",
   "version": "3.6.3"
  }
 },
 "nbformat": 4,
 "nbformat_minor": 2
}
